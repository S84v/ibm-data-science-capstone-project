{
 "cells": [
  {
   "cell_type": "code",
   "execution_count": 67,
   "metadata": {},
   "outputs": [],
   "source": [
    "from dash import dcc, html, Input, Output, Dash, callback\n",
    "import plotly.express as px\n",
    "import pandas as pd\n",
    "import numpy as np"
   ]
  },
  {
   "cell_type": "code",
   "execution_count": 28,
   "metadata": {},
   "outputs": [],
   "source": [
    "data = pd.read_csv(\n",
    "    \"https://cf-courses-data.s3.us.cloud-object-storage.appdomain.cloud/IBM-DS0321EN-SkillsNetwork/datasets/spacex_launch_dash.csv\"\n",
    ")\n",
    "data.drop(columns=[\"Unnamed: 0\"], inplace=True)"
   ]
  },
  {
   "cell_type": "code",
   "execution_count": 290,
   "metadata": {},
   "outputs": [],
   "source": [
    "app = Dash(title=\"SpaceX Dashboard\")"
   ]
  },
  {
   "cell_type": "code",
   "execution_count": 291,
   "metadata": {},
   "outputs": [],
   "source": [
    "sites = []\n",
    "for x in data[\"Launch Site\"].unique():\n",
    "    sites.append(x)"
   ]
  },
  {
   "cell_type": "code",
   "execution_count": 292,
   "metadata": {},
   "outputs": [],
   "source": [
    "app.layout = html.Div(\n",
    "    [\n",
    "        html.Div(html.H1(\"SpaceX Dashboard\", style={\"textAlign\": \"center\"})),\n",
    "        html.Hr(),\n",
    "        dcc.Dropdown(\n",
    "            id=\"site-dropdown\",\n",
    "            options=[{\"label\": \"All Sites\", \"value\": \"ALL\"}]\n",
    "            + [\n",
    "                {\"label\": x, \"value\": x} for x in sites\n",
    "            ],  # Dict comprehension for adding all sites in the dropdown\n",
    "            value=\"ALL\",\n",
    "            placeholder=\"Select a launch site here\",\n",
    "            searchable=True,\n",
    "        ),\n",
    "        dcc.Graph(id=\"success-pie-chart\"),\n",
    "        html.Hr(),\n",
    "        dcc.RangeSlider(\n",
    "            id=\"payload-slider\",\n",
    "            min=0,\n",
    "            max=10000,\n",
    "            step=1000,\n",
    "            value=[0, 10000],\n",
    "        ),\n",
    "        dcc.Graph(id=\"success-payload-scatter-chart\"),\n",
    "    ]\n",
    ")  # End main div"
   ]
  },
  {
   "cell_type": "code",
   "execution_count": 293,
   "metadata": {},
   "outputs": [],
   "source": [
    "@app.callback(\n",
    "    Output(component_id=\"success-pie-chart\", component_property=\"figure\"),\n",
    "    Input(component_id=\"site-dropdown\", component_property=\"value\"),\n",
    ")\n",
    "def get_pie_chart(selection):\n",
    "    if selection == \"ALL\":\n",
    "        fig = px.pie(\n",
    "            data_frame=data,\n",
    "            names=\"Launch Site\",\n",
    "            values=\"class\",\n",
    "            title=\"Total successful launch rate by site\",\n",
    "        ).update_traces(marker_line_color=\"black\", marker_line_width=1)\n",
    "    else:\n",
    "        site_success = (\n",
    "            data[data[\"Launch Site\"] == selection]\n",
    "            .groupby([\"class\"], as_index=False)[\"class\"]\n",
    "            .value_counts()\n",
    "        )\n",
    "        fig = px.pie(\n",
    "            data_frame=site_success,\n",
    "            names=site_success[\"class\"],\n",
    "            values=site_success[\"count\"],\n",
    "            title = f'Successful launch rate for site {selection}'\n",
    "        ).update_traces(marker_line_color=\"black\", marker_line_width=1)\n",
    "\n",
    "    return fig"
   ]
  },
  {
   "cell_type": "code",
   "execution_count": 294,
   "metadata": {},
   "outputs": [],
   "source": [
    "@app.callback(\n",
    "    Output(component_id=\"success-payload-scatter-chart\", component_property=\"figure\"),\n",
    "    Input(component_id=\"site-dropdown\", component_property=\"value\"),\n",
    "    Input(component_id=\"payload-slider\", component_property=\"value\"),\n",
    ")\n",
    "def get_scatter_plot(selection, range):\n",
    "\n",
    "    if selection == \"ALL\":\n",
    "        # data_filtered = data[\n",
    "        #     (data[\"Payload Mass (kg)\"] >= range[0])\n",
    "        #     & (data[\"Payload Mass (kg)\"] <= range[1])\n",
    "        # ]\n",
    "        fig = px.scatter(\n",
    "            data_frame=data,\n",
    "            x=\"Payload Mass (kg)\",\n",
    "            y=\"class\",\n",
    "            color=\"Booster Version Category\",\n",
    "            title=\"Correlation between payload and success for all sites\",\n",
    "        )\n",
    "        return fig\n",
    "\n",
    "    elif selection != \"ALL\":\n",
    "        data_filtered1 = data[data[\"Launch Site\"] == selection]\n",
    "        \n",
    "        data_filtered2 = data_filtered1[\n",
    "            (data_filtered1[\"Payload Mass (kg)\"] >= range[0])\n",
    "            & (data_filtered1[\"Payload Mass (kg)\"] <= range[1])\n",
    "        ]\n",
    "        fig = px.scatter(\n",
    "            data_frame=data_filtered2,\n",
    "            x=\"Payload Mass (kg)\",\n",
    "            y=\"class\",\n",
    "            color=\"Booster Version Category\",\n",
    "            title=f\"Correlation between payload and success for site {selection}\",\n",
    "        )\n",
    "        return fig"
   ]
  },
  {
   "cell_type": "code",
   "execution_count": 295,
   "metadata": {},
   "outputs": [
    {
     "name": "stdout",
     "output_type": "stream",
     "text": [
      "Dash app running on http://127.0.0.1:8050/\n"
     ]
    }
   ],
   "source": [
    "app.run(jupyter_mode=\"external\")"
   ]
  }
 ],
 "metadata": {
  "kernelspec": {
   "display_name": "Python 3",
   "language": "python",
   "name": "python3"
  },
  "language_info": {
   "codemirror_mode": {
    "name": "ipython",
    "version": 3
   },
   "file_extension": ".py",
   "mimetype": "text/x-python",
   "name": "python",
   "nbconvert_exporter": "python",
   "pygments_lexer": "ipython3",
   "version": "3.12.3"
  }
 },
 "nbformat": 4,
 "nbformat_minor": 2
}
